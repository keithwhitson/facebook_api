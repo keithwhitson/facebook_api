{
 "cells": [
  {
   "cell_type": "code",
   "execution_count": 67,
   "metadata": {
    "collapsed": false
   },
   "outputs": [],
   "source": [
    "facebook_api_key = 'EAACEdEose0cBALBgyuZBgDmr7cqrylHKoWezAoEiC4cWrlyQii1d53BuK3PBE8jjWROrbgHTxuILcClh8IDmJOIh51zdZA7pNogRbFLU7B7TiJ0pRI4Xlx8ZAKdQ4BMDOcDUwk2rHPbYlx3oT7X0GtBijI8UxTgatWFBRZAe0AZDZD'\n",
    "import facebook\n",
    "import requests\n",
    "import json\n",
    "from pymongo import MongoClient\n",
    "import pprint\n",
    "client = MongoClient('mongodb://localhost:27017/')\n",
    "db = client.facebook_api_database\n",
    "collection = db['posts']\n",
    "graph = facebook.GraphAPI(access_token=facebook_api_key)\n",
    "allposts = []\n",
    "posts = graph.get_connections(\"me\",\"posts\")\n",
    "index = 0\n",
    "while(True):\n",
    "    index = index + 1\n",
    "    try:\n",
    "        for post in posts['data']:\n",
    "            allposts.append(post)\n",
    "            collection.insert_one(post)\n",
    "        posts=requests.get(posts['paging']['next']).json()\n",
    "    except:\n",
    "        allposts.append('')\n",
    "    if index > 500: \n",
    "        break"
   ]
  },
  {
   "cell_type": "code",
   "execution_count": null,
   "metadata": {
    "collapsed": true
   },
   "outputs": [],
   "source": []
  }
 ],
 "metadata": {
  "kernelspec": {
   "display_name": "Python 2",
   "language": "python",
   "name": "python2"
  },
  "language_info": {
   "codemirror_mode": {
    "name": "ipython",
    "version": 2
   },
   "file_extension": ".py",
   "mimetype": "text/x-python",
   "name": "python",
   "nbconvert_exporter": "python",
   "pygments_lexer": "ipython2",
   "version": "2.7.10"
  }
 },
 "nbformat": 4,
 "nbformat_minor": 0
}
