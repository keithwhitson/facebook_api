{
 "cells": [
  {
   "cell_type": "code",
   "execution_count": 55,
   "metadata": {
    "collapsed": false
   },
   "outputs": [],
   "source": [
    "facebook_api_key = 'EAACEdEose0cBALBgyuZBgDmr7cqrylHKoWezAoEiC4cWrlyQii1d53BuK3PBE8jjWROrbgHTxuILcClh8IDmJOIh51zdZA7pNogRbFLU7B7TiJ0pRI4Xlx8ZAKdQ4BMDOcDUwk2rHPbYlx3oT7X0GtBijI8UxTgatWFBRZAe0AZDZD'\n",
    "import facebook\n",
    "import requests\n",
    "import json\n",
    "from pymongo import MongoClient\n",
    "import pprint\n",
    "client = MongoClient('mongodb://localhost:27017/')\n",
    "db = client.facebook_api_database\n",
    "collection = db['posts']\n",
    "graph = facebook.GraphAPI(access_token=facebook_api_key)\n",
    "allposts = []\n",
    "posts = graph.get_connections(\"me\",\"posts\")\n",
    "index = 0\n",
    "while(True):\n",
    "    index = index + 1\n",
    "    try:\n",
    "        for post in posts['data']:\n",
    "            allposts.append(post)\n",
    "            collection.insert_one(post)\n",
    "        posts=requests.get(posts['paging']['next']).json()\n",
    "    except:\n",
    "        allposts.append('')\n",
    "    if index > 1: \n",
    "        break"
   ]
  },
  {
   "cell_type": "code",
   "execution_count": 62,
   "metadata": {
    "collapsed": false
   },
   "outputs": [
    {
     "name": "stdout",
     "output_type": "stream",
     "text": [
      "{u'_id': ObjectId('57e580514908e124007dcfda'),\n",
      " u'actions': [{u'link': u'https://www.facebook.com/522939835/posts/10154524127754836',\n",
      "               u'name': u'Comment'},\n",
      "              {u'link': u'https://www.facebook.com/522939835/posts/10154524127754836',\n",
      "               u'name': u'Like'}],\n",
      " u'created_time': u'2016-09-23T08:14:36+0000',\n",
      " u'description': u'Partying when Micheal was here.',\n",
      " u'from': {u'id': u'522939835', u'name': u'Keith Whitson'},\n",
      " u'id': u'522939835_10154524127754836',\n",
      " u'is_expired': False,\n",
      " u'is_hidden': False,\n",
      " u'likes': {u'data': [{u'id': u'522939835', u'name': u'Keith Whitson'}],\n",
      "            u'paging': {u'cursors': {u'after': u'NTIyOTM5ODM1',\n",
      "                                     u'before': u'NTIyOTM5ODM1'}}},\n",
      " u'link': u'https://www.facebook.com/photo.php?fbid=437061509835&set=a.437061309835.221079.522939835&type=3',\n",
      " u'name': u'Keith',\n",
      " u'object_id': u'437061509835',\n",
      " u'picture': u'https://scontent.xx.fbcdn.net/v/t1.0-0/s130x130/60515_437061509835_4319519_n.jpg?oh=e79f3c4249d7d98d59bdb06fe3295b9b&oe=587FAC49',\n",
      " u'privacy': {u'allow': u'',\n",
      "              u'deny': u'',\n",
      "              u'description': u'Public',\n",
      "              u'friends': u'',\n",
      "              u'value': u'EVERYONE'},\n",
      " u'status_type': u'mobile_status_update',\n",
      " u'story': u'Keith Whitson shared a memory.',\n",
      " u'story_tags': {u'0': [{u'id': u'522939835',\n",
      "                         u'length': 13,\n",
      "                         u'name': u'Keith Whitson',\n",
      "                         u'offset': 0,\n",
      "                         u'type': u'user'}]},\n",
      " u'subscribed': True,\n",
      " u'type': u'photo',\n",
      " u'updated_time': u'2016-09-23T08:14:36+0000'}\n"
     ]
    }
   ],
   "source": [
    "for document in collection.find().limit(1):\n",
    "    pprint.pprint((document))"
   ]
  },
  {
   "cell_type": "code",
   "execution_count": null,
   "metadata": {
    "collapsed": true
   },
   "outputs": [],
   "source": []
  }
 ],
 "metadata": {
  "kernelspec": {
   "display_name": "Python 2",
   "language": "python",
   "name": "python2"
  },
  "language_info": {
   "codemirror_mode": {
    "name": "ipython",
    "version": 2
   },
   "file_extension": ".py",
   "mimetype": "text/x-python",
   "name": "python",
   "nbconvert_exporter": "python",
   "pygments_lexer": "ipython2",
   "version": "2.7.10"
  }
 },
 "nbformat": 4,
 "nbformat_minor": 0
}
