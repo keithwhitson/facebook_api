{
 "cells": [
  {
   "cell_type": "code",
   "execution_count": 162,
   "metadata": {
    "collapsed": true
   },
   "outputs": [],
   "source": [
    "facebook_api_key = ''"
   ]
  },
  {
   "cell_type": "code",
   "execution_count": 163,
   "metadata": {
    "collapsed": false
   },
   "outputs": [],
   "source": [
    "import facebook\n",
    "graph = facebook.GraphAPI(access_token=facebook_api_key)"
   ]
  },
  {
   "cell_type": "code",
   "execution_count": 164,
   "metadata": {
    "collapsed": true
   },
   "outputs": [],
   "source": [
    "import pprint"
   ]
  },
  {
   "cell_type": "code",
   "execution_count": 165,
   "metadata": {
    "collapsed": false
   },
   "outputs": [],
   "source": [
    "friends = graph.get_object('me/friends')"
   ]
  },
  {
   "cell_type": "code",
   "execution_count": 166,
   "metadata": {
    "collapsed": false
   },
   "outputs": [],
   "source": [
    "after = friends['paging']['cursors']['after']"
   ]
  },
  {
   "cell_type": "code",
   "execution_count": 167,
   "metadata": {
    "collapsed": false
   },
   "outputs": [
    {
     "data": {
      "text/plain": [
       "u''"
      ]
     },
     "execution_count": 167,
     "metadata": {},
     "output_type": "execute_result"
    }
   ],
   "source": [
    "after"
   ]
  },
  {
   "cell_type": "code",
   "execution_count": null,
   "metadata": {
    "collapsed": false
   },
   "outputs": [],
   "source": []
  },
  {
   "cell_type": "code",
   "execution_count": 161,
   "metadata": {
    "collapsed": true
   },
   "outputs": [],
   "source": [
    "import urllib2\n",
    "import json"
   ]
  },
  {
   "cell_type": "code",
   "execution_count": 169,
   "metadata": {
    "collapsed": false
   },
   "outputs": [],
   "source": [
    "api_endpoint = \"https://graph.facebook.com/v2.7/\""
   ]
  },
  {
   "cell_type": "code",
   "execution_count": 173,
   "metadata": {
    "collapsed": false
   },
   "outputs": [],
   "source": [
    "fb_graph_url = api_endpoint+\"me\"+\"?fields=id,name,likes,link&access_token=\"+facebook_api_key"
   ]
  },
  {
   "cell_type": "code",
   "execution_count": 175,
   "metadata": {
    "collapsed": false
   },
   "outputs": [],
   "source": [
    "api_request = urllib2.Request(fb_graph_url)"
   ]
  },
  {
   "cell_type": "code",
   "execution_count": 176,
   "metadata": {
    "collapsed": true
   },
   "outputs": [],
   "source": [
    "api_response = urllib2.urlopen(api_request)"
   ]
  },
  {
   "cell_type": "code",
   "execution_count": 177,
   "metadata": {
    "collapsed": false,
    "scrolled": true
   },
   "outputs": [
    {
     "data": {
      "text/plain": [
       "{u'id': u'522939835',\n",
       " u'likes': {u'data': [{u'created_time': u'2016-09-18T06:41:18+0000',\n",
       "    u'id': u'501748733244604',\n",
       "    u'name': u'Playbuzz'},\n",
       "   {u'created_time': u'2016-09-16T18:38:35+0000',\n",
       "    u'id': u'462122497321194',\n",
       "    u'name': u'BlackYak - Designed by Mountaineers'},\n",
       "   {u'created_time': u'2016-09-12T21:03:12+0000',\n",
       "    u'id': u'412711908798528',\n",
       "    u'name': u'Airbnb'},\n",
       "   {u'created_time': u'2016-09-03T20:35:20+0000',\n",
       "    u'id': u'1423830694520861',\n",
       "    u'name': u'Dan Bilzerian'},\n",
       "   {u'created_time': u'2016-07-15T05:36:43+0000',\n",
       "    u'id': u'463340423855549',\n",
       "    u'name': u'Cadillac Europe'},\n",
       "   {u'created_time': u'2016-07-05T13:09:01+0000',\n",
       "    u'id': u'112489378765207',\n",
       "    u'name': u'Donald Trump'},\n",
       "   {u'created_time': u'2016-06-26T17:46:40+0000',\n",
       "    u'id': u'1640846016197642',\n",
       "    u'name': u'Cathy Hummels'},\n",
       "   {u'created_time': u'2016-06-20T18:22:29+0000',\n",
       "    u'id': u'1446921642260169',\n",
       "    u'name': u'OITNB Memes'},\n",
       "   {u'created_time': u'2016-06-19T23:04:50+0000',\n",
       "    u'id': u'731617720249129',\n",
       "    u'name': u'I Love Being Christian'},\n",
       "   {u'created_time': u'2016-06-19T21:26:07+0000',\n",
       "    u'id': u'849156908539242',\n",
       "    u'name': u'WILLYA'},\n",
       "   {u'created_time': u'2016-06-12T15:52:33+0000',\n",
       "    u'id': u'703643962993357',\n",
       "    u'name': u'Torrance High School'},\n",
       "   {u'created_time': u'2016-06-05T17:17:25+0000',\n",
       "    u'id': u'176695265684871',\n",
       "    u'name': u'Mitsuru Sushi &  Grill'},\n",
       "   {u'created_time': u'2016-06-04T19:11:21+0000',\n",
       "    u'id': u'463428970501884',\n",
       "    u'name': u'Romper'},\n",
       "   {u'created_time': u'2016-06-01T20:07:50+0000',\n",
       "    u'id': u'252205505127334',\n",
       "    u'name': u'Smart is the New Sexy'},\n",
       "   {u'created_time': u'2016-06-01T19:42:29+0000',\n",
       "    u'id': u'118120609284',\n",
       "    u'name': u'My Black is Beautiful'},\n",
       "   {u'created_time': u'2016-06-01T19:42:13+0000',\n",
       "    u'id': u'246463798798449',\n",
       "    u'name': u'SHOE BOX PORN LLC'},\n",
       "   {u'created_time': u'2016-06-01T19:35:20+0000',\n",
       "    u'id': u'558604284151592',\n",
       "    u'name': u'Datarella'},\n",
       "   {u'created_time': u'2016-06-01T19:35:15+0000',\n",
       "    u'id': u'109708839083706',\n",
       "    u'name': u'comSysto GmbH'},\n",
       "   {u'created_time': u'2016-05-10T10:02:44+0000',\n",
       "    u'id': u'131831253495741',\n",
       "    u'name': u'Condoleezza Rice'},\n",
       "   {u'created_time': u'2016-05-04T14:50:06+0000',\n",
       "    u'id': u'248371251877349',\n",
       "    u'name': u'FlixBus'},\n",
       "   {u'created_time': u'2016-03-26T09:25:28+0000',\n",
       "    u'id': u'173421379405020',\n",
       "    u'name': u'Cookie and Kate'},\n",
       "   {u'created_time': u'2016-03-03T21:19:33+0000',\n",
       "    u'id': u'616724221766243',\n",
       "    u'name': u'Lilienthal Berlin'},\n",
       "   {u'created_time': u'2016-02-27T21:08:44+0000',\n",
       "    u'id': u'481832031941747',\n",
       "    u'name': u'Cade Communications'},\n",
       "   {u'created_time': u'2016-01-10T00:30:25+0000',\n",
       "    u'id': u'668405893302988',\n",
       "    u'name': u'Lazy Baboons'},\n",
       "   {u'created_time': u'2015-11-16T11:51:47+0000',\n",
       "    u'id': u'1068879366458814',\n",
       "    u'name': u'ShopWings'}],\n",
       "  u'paging': {u'cursors': {u'after': u'NTA2MTc5Njg5NTUwNTYy',\n",
       "    u'before': u'NTAxNzQ4NzMzMjQ0NjA0'},\n",
       "   u'next': u'https://graph.facebook.com/v2.7/522939835/likes?access_token=EAACEdEose0cBANGjqFnsKeO4ZC2OQHOWuSlJJfr2nMUueJ6413aZADehx996t5l7otYGAs7gRWsmEHNbm3IOvKU4BA5QBNNrbK1buzMrgJRSq9Wi0afLj9naqqZAsTrhi853OVlhSUbpSDUJXStLnLE4z9YM2dUZCN5MZBgpbJAZDZD&limit=25&after=NTA2MTc5Njg5NTUwNTYy'}},\n",
       " u'link': u'https://www.facebook.com/app_scoped_user_id/522939835/',\n",
       " u'name': u'Keith Whitson'}"
      ]
     },
     "execution_count": 177,
     "metadata": {},
     "output_type": "execute_result"
    }
   ],
   "source": [
    "json.loads(api_response.read())"
   ]
  },
  {
   "cell_type": "code",
   "execution_count": 183,
   "metadata": {
    "collapsed": false
   },
   "outputs": [
    {
     "data": {
      "text/plain": [
       "{u'friends': {u'data': [{u'id': u'543623714', u'name': u'Nathalie Steck'},\n",
       "   {u'id': u'701286915', u'name': u'Matthias Dietrich'},\n",
       "   {u'id': u'817618571', u'name': u'Jens Aggergren'},\n",
       "   {u'id': u'839519209', u'name': u'Louisa Mayer'},\n",
       "   {u'id': u'10204389119191514', u'name': u'Wajih Ouertani'},\n",
       "   {u'id': u'1425125348', u'name': u'David Rietz'},\n",
       "   {u'id': u'1799142012', u'name': u'Thomas Klein'},\n",
       "   {u'id': u'977581022261164', u'name': u'Pat Jackson'},\n",
       "   {u'id': u'100000585535922', u'name': u'Felix Kuehner'},\n",
       "   {u'id': u'876223692408708', u'name': u'Lei Bai'},\n",
       "   {u'id': u'100000907177372', u'name': u'Gruber Johannes'}],\n",
       "  u'paging': {u'cursors': {u'after': u'QVFIUm41QmxLRlFWU3FzNXFTeW84ZAy10RTBUQXh2OVdiMERCdWZAGVjJVQlV0N2h0emphVVFlajVqdnFTTGU2SldJa0hqWTRnQ0ZAGb1JjSDVId2htSHVTZA1hB',\n",
       "    u'before': u'QVFIUnJBS3dpWnM2bGlmbWtJWW5pQVRPVkg2cjJQNFJTZAGRaTUJEbl9oT0p1RUhsckEyMW5HZAXU4X0R3Wk1zVklpdXMZD'}},\n",
       "  u'summary': {u'total_count': 648}},\n",
       " u'id': u'522939835'}"
      ]
     },
     "execution_count": 183,
     "metadata": {},
     "output_type": "execute_result"
    }
   ],
   "source": [
    "import urllib2\n",
    "import json\n",
    "api_endpoint = \"https://graph.facebook.com/v2.7/\"\n",
    "fb_graph_url = api_endpoint+\"me\"+\"?fields=friends&access_token=\"+facebook_api_key\n",
    "api_request = urllib2.Request(fb_graph_url)\n",
    "api_response = urllib2.urlopen(api_request)\n",
    "json.loads(api_response.read())"
   ]
  },
  {
   "cell_type": "code",
   "execution_count": 181,
   "metadata": {
    "collapsed": true
   },
   "outputs": [],
   "source": [
    "getnext = \"https://graph.facebook.com/v2.7/me/friends?access_token=EAACEdEose0cBANGjqFnsKeO4ZC2OQHOWuSlJJfr2nMUueJ6413aZADehx996t5l7otYGAs7gRWsmEHNbm3IOvKU4BA5QBNNrbK1buzMrgJRSq9Wi0afLj9naqqZAsTrhi853OVlhSUbpSDUJXStLnLE4z9YM2dUZCN5MZBgpbJAZDZD&limit=25&after=QVFIUm41QmxLRlFWU3FzNXFTeW84ZAy10RTBUQXh2OVdiMERCdWZAGVjJVQlV0N2h0emphVVFlajVqdnFTTGU2SldJa0hqWTRnQ0ZAGb1JjSDVId2htSHVTZA1hB\""
   ]
  },
  {
   "cell_type": "code",
   "execution_count": 182,
   "metadata": {
    "collapsed": false
   },
   "outputs": [
    {
     "data": {
      "text/plain": [
       "{u'data': [], u'summary': {u'total_count': 648}}"
      ]
     },
     "execution_count": 182,
     "metadata": {},
     "output_type": "execute_result"
    }
   ],
   "source": [
    "api_request = urllib2.Request(getnext)\n",
    "api_response = urllib2.urlopen(api_request)\n",
    "json.loads(api_response.read())"
   ]
  },
  {
   "cell_type": "code",
   "execution_count": null,
   "metadata": {
    "collapsed": true
   },
   "outputs": [],
   "source": []
  }
 ],
 "metadata": {
  "kernelspec": {
   "display_name": "Python 2",
   "language": "python",
   "name": "python2"
  },
  "language_info": {
   "codemirror_mode": {
    "name": "ipython",
    "version": 2
   },
   "file_extension": ".py",
   "mimetype": "text/x-python",
   "name": "python",
   "nbconvert_exporter": "python",
   "pygments_lexer": "ipython2",
   "version": "2.7.10"
  }
 },
 "nbformat": 4,
 "nbformat_minor": 0
}
