{
 "cells": [
  {
   "cell_type": "code",
   "execution_count": 2,
   "metadata": {
    "collapsed": true
   },
   "outputs": [],
   "source": [
    "import pandas as pd"
   ]
  },
  {
   "cell_type": "code",
   "execution_count": 4,
   "metadata": {
    "collapsed": false
   },
   "outputs": [],
   "source": [
    "merged = pd.read_excel(\"merged.xls\")"
   ]
  },
  {
   "cell_type": "code",
   "execution_count": 5,
   "metadata": {
    "collapsed": false
   },
   "outputs": [
    {
     "data": {
      "text/html": [
       "<div>\n",
       "<table border=\"1\" class=\"dataframe\">\n",
       "  <thead>\n",
       "    <tr style=\"text-align: right;\">\n",
       "      <th></th>\n",
       "      <th>Name</th>\n",
       "      <th>phone</th>\n",
       "      <th>email</th>\n",
       "      <th>date</th>\n",
       "      <th>percentage</th>\n",
       "    </tr>\n",
       "  </thead>\n",
       "  <tbody>\n",
       "    <tr>\n",
       "      <th>0</th>\n",
       "      <td>Holmes Osborne</td>\n",
       "      <td>(00047) 6194103</td>\n",
       "      <td>Cum.sociis.natoque@utodio.edu</td>\n",
       "      <td>Jul 1, 1977</td>\n",
       "      <td>0.496502</td>\n",
       "    </tr>\n",
       "    <tr>\n",
       "      <th>1</th>\n",
       "      <td>Steven Yang</td>\n",
       "      <td>(030064) 049495</td>\n",
       "      <td>tincidunt.Donec@feugiatnecdiam.co.uk</td>\n",
       "      <td>Sep 11, 1972</td>\n",
       "      <td>0.487364</td>\n",
       "    </tr>\n",
       "    <tr>\n",
       "      <th>2</th>\n",
       "      <td>George Goodwin</td>\n",
       "      <td>(08047) 6449507</td>\n",
       "      <td>ipsum.dolor.sit@Vivamuseuismodurna.ca</td>\n",
       "      <td>Dec 13, 1975</td>\n",
       "      <td>0.450530</td>\n",
       "    </tr>\n",
       "    <tr>\n",
       "      <th>3</th>\n",
       "      <td>Jonah Jarvis</td>\n",
       "      <td>(06571) 6135898</td>\n",
       "      <td>eget.lacus.Mauris@Fuscedolorquam.ca</td>\n",
       "      <td>Jul 15, 1964</td>\n",
       "      <td>0.616850</td>\n",
       "    </tr>\n",
       "    <tr>\n",
       "      <th>4</th>\n",
       "      <td>Talon Guerrero</td>\n",
       "      <td>(0207) 79183557</td>\n",
       "      <td>metus.vitae@magna.ca</td>\n",
       "      <td>May 28, 1985</td>\n",
       "      <td>0.254252</td>\n",
       "    </tr>\n",
       "  </tbody>\n",
       "</table>\n",
       "</div>"
      ],
      "text/plain": [
       "             Name            phone                                  email  \\\n",
       "0  Holmes Osborne  (00047) 6194103          Cum.sociis.natoque@utodio.edu   \n",
       "1     Steven Yang  (030064) 049495   tincidunt.Donec@feugiatnecdiam.co.uk   \n",
       "2  George Goodwin  (08047) 6449507  ipsum.dolor.sit@Vivamuseuismodurna.ca   \n",
       "3    Jonah Jarvis  (06571) 6135898    eget.lacus.Mauris@Fuscedolorquam.ca   \n",
       "4  Talon Guerrero  (0207) 79183557                   metus.vitae@magna.ca   \n",
       "\n",
       "           date  percentage  \n",
       "0   Jul 1, 1977    0.496502  \n",
       "1  Sep 11, 1972    0.487364  \n",
       "2  Dec 13, 1975    0.450530  \n",
       "3  Jul 15, 1964    0.616850  \n",
       "4  May 28, 1985    0.254252  "
      ]
     },
     "execution_count": 5,
     "metadata": {},
     "output_type": "execute_result"
    }
   ],
   "source": [
    "merged.head()"
   ]
  },
  {
   "cell_type": "code",
   "execution_count": null,
   "metadata": {
    "collapsed": true
   },
   "outputs": [],
   "source": []
  }
 ],
 "metadata": {
  "kernelspec": {
   "display_name": "Python 2",
   "language": "python",
   "name": "python2"
  },
  "language_info": {
   "codemirror_mode": {
    "name": "ipython",
    "version": 2
   },
   "file_extension": ".py",
   "mimetype": "text/x-python",
   "name": "python",
   "nbconvert_exporter": "python",
   "pygments_lexer": "ipython2",
   "version": "2.7.10"
  }
 },
 "nbformat": 4,
 "nbformat_minor": 0
}
