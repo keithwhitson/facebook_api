{
 "cells": [
  {
   "cell_type": "code",
   "execution_count": 24,
   "metadata": {
    "collapsed": false
   },
   "outputs": [],
   "source": [
    "facebook_api_key = 'EAACEdEose0cBAOTPrY6xlcb131Em9HTQEnxlIem8on4yLhwxyeLABo16OkVeGsZBa8mN9s78SOzeY6tsBkNYT4QP4d7sk0SezY48UiDBfyuTOvI28wrsMI5nWiRZBmffx6OVqlU1QIDZANumXuhdxeNDc7FeG9htV4l5AZC05wZDZD'\n",
    "import facebook\n",
    "import requests\n",
    "import json\n",
    "from pymongo import MongoClient\n",
    "import pprint\n",
    "graph = facebook.GraphAPI(access_token=facebook_api_key)\n",
    "data = graph.get_object(\"me?fields=about\")"
   ]
  },
  {
   "cell_type": "code",
   "execution_count": 25,
   "metadata": {
    "collapsed": false
   },
   "outputs": [
    {
     "data": {
      "text/plain": [
       "{u'id': u'522939835'}"
      ]
     },
     "execution_count": 25,
     "metadata": {},
     "output_type": "execute_result"
    }
   ],
   "source": [
    "data"
   ]
  },
  {
   "cell_type": "code",
   "execution_count": null,
   "metadata": {
    "collapsed": true
   },
   "outputs": [],
   "source": []
  }
 ],
 "metadata": {
  "kernelspec": {
   "display_name": "Python 2",
   "language": "python",
   "name": "python2"
  },
  "language_info": {
   "codemirror_mode": {
    "name": "ipython",
    "version": 2
   },
   "file_extension": ".py",
   "mimetype": "text/x-python",
   "name": "python",
   "nbconvert_exporter": "python",
   "pygments_lexer": "ipython2",
   "version": "2.7.10"
  }
 },
 "nbformat": 4,
 "nbformat_minor": 0
}
